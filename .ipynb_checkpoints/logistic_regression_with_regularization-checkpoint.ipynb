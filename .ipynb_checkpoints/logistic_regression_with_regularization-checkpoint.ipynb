{
 "cells": [
  {
   "cell_type": "code",
   "execution_count": 4,
   "id": "65c119dd",
   "metadata": {},
   "outputs": [],
   "source": [
    "import numpy as np\n",
    "import pandas as pd\n",
    "import matplotlib.pyplot as plt\n",
    "import seaborn as sns"
   ]
  },
  {
   "cell_type": "code",
   "execution_count": 5,
   "id": "008fd884",
   "metadata": {},
   "outputs": [
    {
     "data": {
      "text/html": [
       "<div>\n",
       "<style scoped>\n",
       "    .dataframe tbody tr th:only-of-type {\n",
       "        vertical-align: middle;\n",
       "    }\n",
       "\n",
       "    .dataframe tbody tr th {\n",
       "        vertical-align: top;\n",
       "    }\n",
       "\n",
       "    .dataframe thead th {\n",
       "        text-align: right;\n",
       "    }\n",
       "</style>\n",
       "<table border=\"1\" class=\"dataframe\">\n",
       "  <thead>\n",
       "    <tr style=\"text-align: right;\">\n",
       "      <th></th>\n",
       "      <th>fixed acidity</th>\n",
       "      <th>volatile acidity</th>\n",
       "      <th>citric acid</th>\n",
       "      <th>residual sugar</th>\n",
       "      <th>chlorides</th>\n",
       "      <th>free sulfur dioxide</th>\n",
       "      <th>total sulfur dioxide</th>\n",
       "      <th>density</th>\n",
       "      <th>pH</th>\n",
       "      <th>sulphates</th>\n",
       "      <th>alcohol</th>\n",
       "      <th>quality</th>\n",
       "    </tr>\n",
       "  </thead>\n",
       "  <tbody>\n",
       "    <tr>\n",
       "      <th>0</th>\n",
       "      <td>7.4</td>\n",
       "      <td>0.70</td>\n",
       "      <td>0.00</td>\n",
       "      <td>1.9</td>\n",
       "      <td>0.076</td>\n",
       "      <td>11.0</td>\n",
       "      <td>34.0</td>\n",
       "      <td>0.9978</td>\n",
       "      <td>3.51</td>\n",
       "      <td>0.56</td>\n",
       "      <td>9.4</td>\n",
       "      <td>0</td>\n",
       "    </tr>\n",
       "    <tr>\n",
       "      <th>1</th>\n",
       "      <td>7.8</td>\n",
       "      <td>0.88</td>\n",
       "      <td>0.00</td>\n",
       "      <td>2.6</td>\n",
       "      <td>0.098</td>\n",
       "      <td>25.0</td>\n",
       "      <td>67.0</td>\n",
       "      <td>0.9968</td>\n",
       "      <td>3.20</td>\n",
       "      <td>0.68</td>\n",
       "      <td>9.8</td>\n",
       "      <td>0</td>\n",
       "    </tr>\n",
       "    <tr>\n",
       "      <th>2</th>\n",
       "      <td>7.8</td>\n",
       "      <td>0.76</td>\n",
       "      <td>0.04</td>\n",
       "      <td>2.3</td>\n",
       "      <td>0.092</td>\n",
       "      <td>15.0</td>\n",
       "      <td>54.0</td>\n",
       "      <td>0.9970</td>\n",
       "      <td>3.26</td>\n",
       "      <td>0.65</td>\n",
       "      <td>9.8</td>\n",
       "      <td>0</td>\n",
       "    </tr>\n",
       "    <tr>\n",
       "      <th>3</th>\n",
       "      <td>11.2</td>\n",
       "      <td>0.28</td>\n",
       "      <td>0.56</td>\n",
       "      <td>1.9</td>\n",
       "      <td>0.075</td>\n",
       "      <td>17.0</td>\n",
       "      <td>60.0</td>\n",
       "      <td>0.9980</td>\n",
       "      <td>3.16</td>\n",
       "      <td>0.58</td>\n",
       "      <td>9.8</td>\n",
       "      <td>1</td>\n",
       "    </tr>\n",
       "    <tr>\n",
       "      <th>4</th>\n",
       "      <td>7.4</td>\n",
       "      <td>0.70</td>\n",
       "      <td>0.00</td>\n",
       "      <td>1.9</td>\n",
       "      <td>0.076</td>\n",
       "      <td>11.0</td>\n",
       "      <td>34.0</td>\n",
       "      <td>0.9978</td>\n",
       "      <td>3.51</td>\n",
       "      <td>0.56</td>\n",
       "      <td>9.4</td>\n",
       "      <td>0</td>\n",
       "    </tr>\n",
       "  </tbody>\n",
       "</table>\n",
       "</div>"
      ],
      "text/plain": [
       "   fixed acidity  volatile acidity  citric acid  residual sugar  chlorides  \\\n",
       "0            7.4              0.70         0.00             1.9      0.076   \n",
       "1            7.8              0.88         0.00             2.6      0.098   \n",
       "2            7.8              0.76         0.04             2.3      0.092   \n",
       "3           11.2              0.28         0.56             1.9      0.075   \n",
       "4            7.4              0.70         0.00             1.9      0.076   \n",
       "\n",
       "   free sulfur dioxide  total sulfur dioxide  density    pH  sulphates  \\\n",
       "0                 11.0                  34.0   0.9978  3.51       0.56   \n",
       "1                 25.0                  67.0   0.9968  3.20       0.68   \n",
       "2                 15.0                  54.0   0.9970  3.26       0.65   \n",
       "3                 17.0                  60.0   0.9980  3.16       0.58   \n",
       "4                 11.0                  34.0   0.9978  3.51       0.56   \n",
       "\n",
       "   alcohol  quality  \n",
       "0      9.4        0  \n",
       "1      9.8        0  \n",
       "2      9.8        0  \n",
       "3      9.8        1  \n",
       "4      9.4        0  "
      ]
     },
     "execution_count": 5,
     "metadata": {},
     "output_type": "execute_result"
    }
   ],
   "source": [
    "df = pd.read_csv('wine_quality.csv')\n",
    "df.head()"
   ]
  },
  {
   "cell_type": "code",
   "execution_count": 6,
   "id": "69668fa0",
   "metadata": {},
   "outputs": [
    {
     "data": {
      "text/plain": [
       "Index(['fixed acidity', 'volatile acidity', 'citric acid', 'residual sugar',\n",
       "       'chlorides', 'free sulfur dioxide', 'total sulfur dioxide', 'density',\n",
       "       'pH', 'sulphates', 'alcohol', 'quality'],\n",
       "      dtype='object')"
      ]
     },
     "execution_count": 6,
     "metadata": {},
     "output_type": "execute_result"
    }
   ],
   "source": [
    "df.columns"
   ]
  },
  {
   "cell_type": "code",
   "execution_count": 7,
   "id": "8b2ec326",
   "metadata": {},
   "outputs": [],
   "source": [
    "y = df['quality']\n",
    "features = df.drop(columns = ['quality'])"
   ]
  },
  {
   "cell_type": "code",
   "execution_count": 8,
   "id": "9e2115a1",
   "metadata": {},
   "outputs": [],
   "source": [
    "## 1. Data transformation\n",
    "from sklearn.preprocessing import StandardScaler\n",
    "X = StandardScaler().fit_transform(features)"
   ]
  },
  {
   "cell_type": "code",
   "execution_count": 9,
   "id": "e6db5da6",
   "metadata": {},
   "outputs": [
    {
     "data": {
      "text/plain": [
       "LogisticRegression(penalty='none')"
      ]
     },
     "execution_count": 9,
     "metadata": {},
     "output_type": "execute_result"
    }
   ],
   "source": [
    "## 2. Train-test split\n",
    "from sklearn.model_selection import train_test_split\n",
    "train_x,test_x,train_y ,test_y = train_test_split(X,y,random_state = 99, train_size = 0.80)\n",
    "## 3. Fit a logistic regression classifier without regularization\n",
    "from sklearn.linear_model import LogisticRegression\n",
    "clf_no_reg = LogisticRegression(penalty = 'none')\n",
    "clf_no_reg.fit(train_x,train_y)"
   ]
  },
  {
   "cell_type": "code",
   "execution_count": 10,
   "id": "663889fa",
   "metadata": {},
   "outputs": [
    {
     "data": {
      "image/png": "[encoded data removed]",
      "text/plain": [
       "<Figure size 432x288 with 1 Axes>"
      ]
     },
     "metadata": {
      "needs_background": "light"
     },
     "output_type": "display_data"
    },
    {
     "data": {
      "text/plain": [
       "<Figure size 432x288 with 0 Axes>"
      ]
     },
     "metadata": {},
     "output_type": "display_data"
    }
   ],
   "source": [
    "## 4. Plot the coefficients\n",
    "predictors = features.columns\n",
    "coefficients = clf_no_reg.coef_.ravel()\n",
    "coef = pd.Series(coefficients,predictors).sort_values()\n",
    "coef.plot(kind='bar', title = 'Coefficients (no regularization)')\n",
    "plt.tight_layout()\n",
    "plt.show()\n",
    "plt.clf()"
   ]
  },
  {
   "cell_type": "code",
   "execution_count": 11,
   "id": "0468d214",
   "metadata": {},
   "outputs": [
    {
     "name": "stdout",
     "output_type": "stream",
     "text": [
      "Training Score 0.7727598566308242\n",
      "Testing Score 0.7266666666666667\n"
     ]
    }
   ],
   "source": [
    "## 5. Training and test performance\n",
    "from sklearn.metrics import f1_score\n",
    "y_pred_test = clf_no_reg.predict(test_x)\n",
    "y_pred_train = clf_no_reg.predict(train_x)\n",
    "print('Training Score', f1_score(train_y, y_pred_train))\n",
    "print('Testing Score', f1_score(test_y, y_pred_test))"
   ]
  },
  {
   "cell_type": "code",
   "execution_count": 12,
   "id": "c6a04b60",
   "metadata": {},
   "outputs": [
    {
     "data": {
      "text/plain": [
       "LogisticRegression()"
      ]
     },
     "execution_count": 12,
     "metadata": {},
     "output_type": "execute_result"
    }
   ],
   "source": [
    "## 6. Default Implementation (L2-regularized!)\n",
    "clf_default = LogisticRegression()\n",
    "clf_default.fit(train_x,train_y)\n"
   ]
  },
  {
   "cell_type": "code",
   "execution_count": 13,
   "id": "3f983e70",
   "metadata": {},
   "outputs": [
    {
     "name": "stdout",
     "output_type": "stream",
     "text": [
      "Training Score 0.7727598566308242\n",
      "Testing Score 0.7266666666666667\n"
     ]
    }
   ],
   "source": [
    "## 7. Ridge Scores\n",
    "y_pred_test = clf_default.predict(test_x)\n",
    "y_pred_train = clf_default.predict(train_x)\n",
    "print('Training Score', f1_score(train_y, y_pred_train))\n",
    "print('Testing Score', f1_score(test_y, y_pred_test))"
   ]
  },
  {
   "cell_type": "code",
   "execution_count": 14,
   "id": "e8503a7a",
   "metadata": {},
   "outputs": [],
   "source": [
    "## 8. Coarse-grained hyperparameter tuning\n",
    "training_array = []\n",
    "test_array = []\n",
    "C_array = [0.0001, 0.001, 0.01, 0.1, 1]\n",
    "for x in C_array:\n",
    "    clf = LogisticRegression(C = x )\n",
    "    clf.fit(train_x, train_y)\n",
    "    y_pred_test = clf.predict(test_x)\n",
    "    y_pred_train = clf.predict(train_x)\n",
    "    training_array.append(f1_score(train_y, y_pred_train))\n",
    "    test_array.append(f1_score(test_y, y_pred_test))"
   ]
  },
  {
   "cell_type": "code",
   "execution_count": 15,
   "id": "1115365b",
   "metadata": {},
   "outputs": [
    {
     "data": {
      "image/png": "[encoded data removed]",
      "text/plain": [
       "<Figure size 432x288 with 1 Axes>"
      ]
     },
     "metadata": {
      "needs_background": "light"
     },
     "output_type": "display_data"
    },
    {
     "data": {
      "text/plain": [
       "<Figure size 432x288 with 0 Axes>"
      ]
     },
     "metadata": {},
     "output_type": "display_data"
    }
   ],
   "source": [
    "## 9. Plot training and test scores as a function of C\n",
    "plt.plot(C_array,training_array)\n",
    "plt.plot(C_array,test_array)\n",
    "plt.xscale('log')\n",
    "plt.legend([\"Training Score\", \"Test Score\"])\n",
    "plt.show()\n",
    "plt.clf()"
   ]
  },
  {
   "cell_type": "code",
   "execution_count": 16,
   "id": "7c89c591",
   "metadata": {},
   "outputs": [
    {
     "data": {
      "text/plain": [
       "GridSearchCV(cv=5, estimator=LogisticRegression(),\n",
       "             param_grid={'C': array([0.0001    , 0.00010476, 0.00010975, 0.00011498, 0.00012045,\n",
       "       0.00012619, 0.00013219, 0.00013849, 0.00014508, 0.00015199,\n",
       "       0.00015923, 0.00016681, 0.00017475, 0.00018307, 0.00019179,\n",
       "       0.00020092, 0.00021049, 0.00022051, 0.00023101, 0.00024201,\n",
       "       0.00025354, 0.00026561, 0.00027826, 0.00029151, 0.00030539,\n",
       "       0.00031...\n",
       "       0.00205651, 0.00215443, 0.00225702, 0.00236449, 0.00247708,\n",
       "       0.00259502, 0.00271859, 0.00284804, 0.00298365, 0.00312572,\n",
       "       0.00327455, 0.00343047, 0.00359381, 0.00376494, 0.00394421,\n",
       "       0.00413201, 0.00432876, 0.00453488, 0.00475081, 0.00497702,\n",
       "       0.00521401, 0.00546228, 0.00572237, 0.00599484, 0.00628029,\n",
       "       0.00657933, 0.00689261, 0.00722081, 0.00756463, 0.00792483,\n",
       "       0.00830218, 0.00869749, 0.00911163, 0.00954548, 0.01      ])},\n",
       "             scoring='f1')"
      ]
     },
     "execution_count": 16,
     "metadata": {},
     "output_type": "execute_result"
    }
   ],
   "source": [
    "## 10. Making a parameter grid for GridSearchCV\n",
    "C_array = np.logspace(-4,-2,100)\n",
    "tuning_C = {\"C\": C_array}\n",
    "## 11. Implementing GridSearchCV with l2 penalty\n",
    "from sklearn.model_selection import GridSearchCV\n",
    "clf_gs = LogisticRegression()\n",
    "gs = GridSearchCV(clf_gs, param_grid = tuning_C, scoring = 'f1', cv = 5)\n",
    "gs.fit(train_x,train_y) "
   ]
  },
  {
   "cell_type": "code",
   "execution_count": 17,
   "id": "e3883fad",
   "metadata": {},
   "outputs": [
    {
     "name": "stdout",
     "output_type": "stream",
     "text": [
      "{'C': 0.0019630406500402726}\n",
      "0.7723336222647887\n"
     ]
    }
   ],
   "source": [
    "## 12. Optimal C value and the score corresponding to it\n",
    "print(gs.best_params_)\n",
    "print(gs.best_score_)"
   ]
  },
  {
   "cell_type": "code",
   "execution_count": 18,
   "id": "82ad55aa",
   "metadata": {},
   "outputs": [
    {
     "name": "stdout",
     "output_type": "stream",
     "text": [
      "0.7407407407407408\n"
     ]
    }
   ],
   "source": [
    "## 13. Validating the \"best classifier\"\n",
    "clf_best_ridge = LogisticRegression(C =gs.best_params_[\"C\"] )\n",
    "clf_best_ridge.fit(train_x, train_y)\n",
    "y_predict = clf_best_ridge.predict(test_x)\n",
    "print(f1_score(test_y, y_predict))"
   ]
  },
  {
   "cell_type": "code",
   "execution_count": 19,
   "id": "ee3a75be",
   "metadata": {},
   "outputs": [
    {
     "data": {
      "text/plain": [
       "LogisticRegressionCV(Cs=array([1.00000000e-02, 1.09749877e-02, 1.20450354e-02, 1.32194115e-02,\n",
       "       1.45082878e-02, 1.59228279e-02, 1.74752840e-02, 1.91791026e-02,\n",
       "       2.10490414e-02, 2.31012970e-02, 2.53536449e-02, 2.78255940e-02,\n",
       "       3.05385551e-02, 3.35160265e-02, 3.67837977e-02, 4.03701726e-02,\n",
       "       4.43062146e-02, 4.86260158e-02, 5.33669923e-02, 5.85702082e-02,\n",
       "       6.42807312e-02, 7.05...\n",
       "       1.70735265e+01, 1.87381742e+01, 2.05651231e+01, 2.25701972e+01,\n",
       "       2.47707636e+01, 2.71858824e+01, 2.98364724e+01, 3.27454916e+01,\n",
       "       3.59381366e+01, 3.94420606e+01, 4.32876128e+01, 4.75081016e+01,\n",
       "       5.21400829e+01, 5.72236766e+01, 6.28029144e+01, 6.89261210e+01,\n",
       "       7.56463328e+01, 8.30217568e+01, 9.11162756e+01, 1.00000000e+02]),\n",
       "                     cv=5, penalty='l1', scoring='f1', solver='liblinear')"
      ]
     },
     "execution_count": 19,
     "metadata": {},
     "output_type": "execute_result"
    }
   ],
   "source": [
    "## 14. Implement L1 hyperparameter tuning with LogisticRegressionCV\n",
    "from sklearn.linear_model import LogisticRegressionCV\n",
    "C_array = np.logspace(-2,2,100)\n",
    "clf_l1 = LogisticRegressionCV(Cs =C_array, cv =5, penalty = \"l1\", solver = \"liblinear\", scoring=  \"f1\")\n",
    "clf_l1.fit(X, y)"
   ]
  },
  {
   "cell_type": "code",
   "execution_count": 20,
   "id": "06b84fc1",
   "metadata": {},
   "outputs": [
    {
     "name": "stdout",
     "output_type": "stream",
     "text": [
      "[[ 0.1163114  -0.55628748 -0.17253457  0.03123623 -0.17333444  0.2006042\n",
      "  -0.50592907  0.         -0.07052105  0.43225139  0.9410067 ]] [0.25950242]\n"
     ]
    }
   ],
   "source": [
    "## 15. Optimal C value and corresponding coefficients\n",
    "print(clf_l1.coef_, clf_l1.C_)"
   ]
  },
  {
   "cell_type": "code",
   "execution_count": 21,
   "id": "04c93937",
   "metadata": {},
   "outputs": [
    {
     "data": {
      "image/png": "[encoded data removed]",
      "text/plain": [
       "<Figure size 864x576 with 1 Axes>"
      ]
     },
     "metadata": {
      "needs_background": "light"
     },
     "output_type": "display_data"
    },
    {
     "data": {
      "text/plain": [
       "<Figure size 432x288 with 0 Axes>"
      ]
     },
     "metadata": {},
     "output_type": "display_data"
    }
   ],
   "source": [
    "## 16. Plotting the tuned L1 coefficients\n",
    "coefficients = clf_l1.coef_.ravel()\n",
    "coef = pd.Series(coefficients,predictors).sort_values()\n",
    " \n",
    "plt.figure(figsize = (12,8))\n",
    "coef.plot(kind='bar', title = 'Coefficients for tuned L1')\n",
    "plt.tight_layout()\n",
    "plt.show()\n",
    "plt.clf()"
   ]
  }
 ],
 "metadata": {
  "kernelspec": {
   "display_name": "Python 3 (ipykernel)",
   "language": "python",
   "name": "python3"
  },
  "language_info": {
   "codemirror_mode": {
    "name": "ipython",
    "version": 3
   },
   "file_extension": ".py",
   "mimetype": "text/x-python",
   "name": "python",
   "nbconvert_exporter": "python",
   "pygments_lexer": "ipython3",
   "version": "3.9.7"
  }
 },
 "nbformat": 4,
 "nbformat_minor": 5
}
